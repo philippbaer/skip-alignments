{
 "cells": [
  {
   "cell_type": "markdown",
   "metadata": {},
   "source": [
    "# Inductive Miner Models\n",
    "This notebook contains the computational pipeline for the Inductive Miner parts of the evaluation.\n",
    "It discovers SBWF-nets with the Inductive Miner from pm4py and computes all optimal skip alignments in normal form as well as all optimal alignments (in case these are not infinitely many).\n",
    "\n",
    "## Instructions\n",
    "1. Install all required libraries and download the event logs. Provide their system paths.\n",
    "2. Select the log you want to align (`inspected_log`) and hit 'Run All'.\n",
    "\n",
    "## Output\n",
    "The output is written to disk and available in the following variables:\n",
    "- `skip_dict`: variant string $\\rightarrow$ list of optimal skip alignment states\n",
    "- `skip_times`: variant string $\\rightarrow$ computation time for all optimal skip alignments in normal form in _ns_ or -1 for a timeout\n",
    "\n",
    "- `pm4py_dict`: variant string $\\rightarrow$ list of optimal alignments or empty list if there are infinitely many optimal alignments\n",
    "- `pm4py_times`: variant string $\\rightarrow$ computation time for all optimal alignments in _ns_ or -1 for a timeout resp. infinitely many optimal alignments\n",
    "- `pm4py_times_first`: variant string $\\rightarrow$ computation time for the first optimal alignment in _ns_ or -1 for a timeout"
   ]
  },
  {
   "cell_type": "code",
   "execution_count": 15,
   "metadata": {},
   "outputs": [],
   "source": [
    "from logs import Logs\n",
    "############### ENTER THE LOG PATHS HERE ###############\n",
    "path_to_road_fines_log = 'xxxxx/xx/xxxx.xes'\n",
    "path_to_request_for_payment_log = 'xxxxx/xx/xxxx.xes'\n",
    "path_to_sepsis_log = 'xxxxx/xx/xxxx.xes'\n",
    "\n",
    "inspected_log = Logs.ROAD_FINES"
   ]
  },
  {
   "cell_type": "markdown",
   "metadata": {},
   "source": [
    "### Content"
   ]
  },
  {
   "cell_type": "code",
   "execution_count": null,
   "metadata": {},
   "outputs": [],
   "source": [
    "%load_ext autoreload\n",
    "%autoreload 2\n",
    "import pm4py\n",
    "from processtree import *\n",
    "from alignment import *\n",
    "from alignall import *\n",
    "import statistics\n",
    "import random\n",
    "from tqdm import tqdm\n",
    "from pathlib import Path\n",
    "import pickle"
   ]
  },
  {
   "cell_type": "code",
   "execution_count": 13,
   "metadata": {},
   "outputs": [],
   "source": [
    "def get_variant_dict(log):\n",
    "    variants = dict()\n",
    "    for k,v in pm4py.statistics.variants.log.get.get_variants_from_log_trace_idx(log).items():\n",
    "        variants[k] = len(v)\n",
    "    variants = dict(sorted(variants.items(), key=lambda x: -x[1]))\n",
    "    return variants"
   ]
  },
  {
   "cell_type": "code",
   "execution_count": 14,
   "metadata": {},
   "outputs": [],
   "source": [
    "def update_pair_taus(tree:ProcessTree):\n",
    "    if isinstance(tree, Tau):\n",
    "        if tree.parent is not None and len(tree.parent.children) == 2:\n",
    "            other = tree.parent.children[0]\n",
    "            if other == tree:\n",
    "                other = tree.parent.children[1]\n",
    "            if isinstance(other, Activity):\n",
    "                # set tau\n",
    "                tree.name = \"TAU_\" + other.name\n",
    "            else:\n",
    "                tree.name = \"TAU_\" + other.id\n",
    "        else:\n",
    "            tree.name = \"TAU_\" + str(tree.get_distance_to_root()) + str(random.random())\n",
    "        return\n",
    "    elif not isinstance(tree, Activity):\n",
    "        for c in tree.children:\n",
    "            update_pair_taus(c)\n",
    "        return\n",
    "    else:\n",
    "        return"
   ]
  },
  {
   "cell_type": "code",
   "execution_count": null,
   "metadata": {},
   "outputs": [],
   "source": [
    "path = None\n",
    "if inspected_log == Logs.ROAD_FINES:\n",
    "    path = path_to_road_fines_log\n",
    "elif inspected_log == Logs.REQUEST_FOR_PAYMENT:\n",
    "    path = path_to_request_for_payment_log\n",
    "elif inspected_log == Logs.SEPSIS:\n",
    "    path = path_to_sepsis_log\n",
    "log_rf = pm4py.read_xes(path)"
   ]
  },
  {
   "cell_type": "code",
   "execution_count": null,
   "metadata": {},
   "outputs": [],
   "source": [
    "threshold = None\n",
    "if inspected_log == Logs.ROAD_FINES:\n",
    "    threshold = 0.5\n",
    "elif inspected_log == Logs.REQUEST_FOR_PAYMENT:\n",
    "    threshold = 0.5\n",
    "elif inspected_log == Logs.SEPSIS:\n",
    "    threshold = 0.2\n",
    "process_tree_rf = pm4py.discover_process_tree_inductive(log_rf, activity_key='concept:name', case_id_key='case:concept:name', timestamp_key='time:timestamp', noise_threshold=threshold)\n",
    "pm4py.view_process_tree(process_tree_rf, format='png')"
   ]
  },
  {
   "cell_type": "code",
   "execution_count": null,
   "metadata": {},
   "outputs": [],
   "source": [
    "tree_rf = ProcessTree.from_pm4py(process_tree_rf, 100000, 0, 0)\n",
    "update_pair_taus(tree_rf)\n",
    "process_tree_rf = tree_rf.to_pm4py()\n",
    "tau_loops_rf, process_tree_rf = insert_cycle_checks(process_tree_rf)\n",
    "pm4py.view_process_tree(process_tree_rf, format='png')\n",
    "sublog_pt_rf_net, sublog_pt_rf_init, sublog_pt_rf_final = pm4py.convert.convert_to_petri_net(process_tree_rf)"
   ]
  },
  {
   "cell_type": "code",
   "execution_count": null,
   "metadata": {},
   "outputs": [],
   "source": [
    "skip_dict = {}\n",
    "skip_times = {}\n",
    "Aligner.set_level_incentive(0)\n",
    "variant_strings = list(get_variant_dict(log_rf).keys())\n",
    "futures = align_sk_all(variant_strings, tree_rf, timeout=3600)\n",
    "for index, variant in enumerate(futures):\n",
    "    agns, t = futures[index].result()\n",
    "    skip_dict[\", \".join(variant_strings[index])] = agns\n",
    "    skip_times[\", \".join(variant_strings[index])] = t"
   ]
  },
  {
   "cell_type": "code",
   "execution_count": null,
   "metadata": {},
   "outputs": [],
   "source": [
    "# recompute the runtime for ALL optimal skip agns of a variant\n",
    "for k, v in tqdm(skip_times.items(), total=len(skip_times)):\n",
    "    if v == 0:\n",
    "        # it was not a timeout but too fast result\n",
    "        skip_times[k] = align_sk_all_for_one(tree_rf, k.split(\", \"), 3600)"
   ]
  },
  {
   "cell_type": "code",
   "execution_count": null,
   "metadata": {},
   "outputs": [],
   "source": [
    "for k, v in tqdm(skip_times.items(), total=len(skip_times)):\n",
    "    if v > 3600000000000:\n",
    "        skip_times[k] = -1"
   ]
  },
  {
   "cell_type": "code",
   "execution_count": null,
   "metadata": {},
   "outputs": [],
   "source": [
    "print(\"Max num agns:\", max(len(v) for k,v in skip_dict.items()))\n",
    "print(\"Avg num agns:\", statistics.mean(len(v) for k,v in skip_dict.items()))\n",
    "print(\"Num timeouts:\", sum(v == -1 for k,v in skip_times.items()))\n",
    "print(\"Max time:\", max(v for k,v in skip_times.items()))\n",
    "print(\"Med time:\", statistics.median(v for k,v in skip_times.items() if v != -1))"
   ]
  },
  {
   "cell_type": "code",
   "execution_count": null,
   "metadata": {},
   "outputs": [],
   "source": [
    "pm4py_dict = {}\n",
    "pm4py_times = {}\n",
    "pm4py_times_first = {}\n",
    "\n",
    "pm4py_res = align_pn_all_multi(log_rf, sublog_pt_rf_net, sublog_pt_rf_init, sublog_pt_rf_final, tau_loops_rf, tree_rf, timeout=3600)\n",
    "\n",
    "for k,(process_time, (agns, has_timed_out, time_first_agn)) in pm4py_res.items():\n",
    "    pm4py_dict[k] = list(set([tuple([t for t in agns[i]['alignment'] if t.label[1] is not None and not t.label[1].startswith(\"TAU_entry\") and not t.label[1].startswith(\"TAU_exit\")]) for i in range(len(agns))]))\n",
    "    pm4py_times[k] = -1 if has_timed_out == -1 or process_time > 36*10**11 else process_time\n",
    "    pm4py_times_first[k] = time_first_agn"
   ]
  },
  {
   "cell_type": "code",
   "execution_count": null,
   "metadata": {},
   "outputs": [],
   "source": [
    "# recompute the runtime for ALL optimal agns of a variant\n",
    "for k, v in tqdm(pm4py_times.items(), total=len(pm4py_times)):\n",
    "    if v == 0:\n",
    "        # it was not a timeout but too fast result\n",
    "        pm4py_times[k] = align_pn_all_for_one(k.split(\", \"), sublog_pt_rf_net, sublog_pt_rf_init, sublog_pt_rf_final, tau_loops_rf, tree_rf.get_cheapest_execution(0)[0]+len(k.split(\", \"))*100000+0.1, timeout=3600)"
   ]
  },
  {
   "cell_type": "code",
   "execution_count": null,
   "metadata": {},
   "outputs": [],
   "source": [
    "# recompute the runtime for ONE optimal agn of a variant\n",
    "for k, v in tqdm(pm4py_times_first.items(), total=len(pm4py_times_first)):\n",
    "    if v == 0:\n",
    "        # it was not a timeout but too fast result\n",
    "        pm4py_times_first[k] = align_pn_one_for_one(k.split(\", \"), sublog_pt_rf_net, sublog_pt_rf_init, sublog_pt_rf_final, tau_loops_rf, tree_rf.get_cheapest_execution(0)[0]+len(k.split(\", \"))*100000+0.1, timeout=3600, cnt=200)\n",
    "for k, v in tqdm(pm4py_times_first.items(), total=len(pm4py_times_first)):\n",
    "    if v == 0:\n",
    "        # it was not a timeout but too fast result\n",
    "        pm4py_times_first[k] = align_pn_one_for_one(k.split(\", \"), sublog_pt_rf_net, sublog_pt_rf_init, sublog_pt_rf_final, tau_loops_rf, tree_rf.get_cheapest_execution(0)[0]+len(k.split(\", \"))*100000+0.1, timeout=3600, cnt=2000)"
   ]
  },
  {
   "cell_type": "code",
   "execution_count": null,
   "metadata": {},
   "outputs": [],
   "source": [
    "for k, v in tqdm(pm4py_times_first.items(), total=len(pm4py_times_first)):\n",
    "    if v > 3600000000000:\n",
    "        pm4py_times_first[k] = -1"
   ]
  },
  {
   "cell_type": "code",
   "execution_count": null,
   "metadata": {},
   "outputs": [],
   "source": [
    "print(\"Max num agns:\", max(len(v) for k,v in pm4py_dict.items()))\n",
    "print(\"Avg num agns:\", statistics.mean(len(v) for k,v in pm4py_dict.items()))\n",
    "print(\"Num timeouts:\", sum(v == -1 for k,v in pm4py_times.items()))\n",
    "print(\"Max time:\", max(v for k,v in pm4py_times.items()))\n",
    "print(\"Med. first agn time:\", statistics.median(v for k,v in pm4py_times_first.items() if v != -1))\n",
    "print(\"Min first time:\", min(v for k,v in pm4py_times_first.items() if v != -1))"
   ]
  },
  {
   "cell_type": "code",
   "execution_count": 87,
   "metadata": {},
   "outputs": [],
   "source": [
    "output_folder = None\n",
    "if inspected_log == Logs.ROAD_FINES:\n",
    "    output_folder = Path(\"im_results/rf\").mkdir(parents=True, exist_ok=True)\n",
    "elif inspected_log == Logs.REQUEST_FOR_PAYMENT:\n",
    "    output_folder = Path(\"im_results/payreq\").mkdir(parents=True, exist_ok=True)\n",
    "elif inspected_log == Logs.SEPSIS:\n",
    "    output_folder = Path(\"im_results/sepsis\").mkdir(parents=True, exist_ok=True)\n",
    "\n",
    "file_pm4py_dict = open(\"im_results/payreq/pm4py_dict\",\"wb\")\n",
    "pickle.dump(pm4py_dict, file_pm4py_dict)\n",
    "file_pm4py_dict.close()\n",
    "file_skip_dict = open(\"im_results/payreq/skip_dict\",\"wb\")\n",
    "pickle.dump(skip_dict, file_skip_dict)\n",
    "file_skip_dict.close()\n",
    "file_pm4py_times = open(\"im_results/payreq/pm4py_times\",\"wb\")\n",
    "pickle.dump(pm4py_times, file_pm4py_times)\n",
    "file_pm4py_times.close()\n",
    "file_pm4py_times_first = open(\"im_results/payreq/pm4py_times_first\",\"wb\")\n",
    "pickle.dump(pm4py_times_first, file_pm4py_times_first)\n",
    "file_pm4py_times_first.close()\n",
    "file_skip_times = open(\"im_results/payreq/skip_times\",\"wb\")\n",
    "pickle.dump(skip_times, file_skip_times)\n",
    "file_skip_times.close()"
   ]
  }
 ],
 "metadata": {
  "kernelspec": {
   "display_name": "Python 3",
   "language": "python",
   "name": "python3"
  },
  "language_info": {
   "codemirror_mode": {
    "name": "ipython",
    "version": 3
   },
   "file_extension": ".py",
   "mimetype": "text/x-python",
   "name": "python",
   "nbconvert_exporter": "python",
   "pygments_lexer": "ipython3",
   "version": "3.12.6"
  }
 },
 "nbformat": 4,
 "nbformat_minor": 2
}
