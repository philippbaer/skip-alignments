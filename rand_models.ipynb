{
 "cells": [
  {
   "cell_type": "markdown",
   "metadata": {},
   "source": [
    "# Random Miner Models\n",
    "This notebook contains the computational pipeline for the Random Miner parts of the evaluation.\n",
    "It randomly generates SBWF-nets and computes all optimal skip alignments in normal form as well as all optimal alignments (in case these are not infinitely many).\n",
    "\n",
    "## Instructions\n",
    "1. Install all required libraries and download the event logs. Provide their system paths.\n",
    "2. Select the log you want to align (`inspected_log`) and hit 'Run All'.\n",
    "\n",
    "## Output\n",
    "The output is written to disk and available in the following variables:\n",
    "- `skip_dict`: variant string $\\rightarrow$ list of optimal skip alignment states\n",
    "- `skip_times`: variant string $\\rightarrow$ computation time for all optimal skip alignments in normal form in _ns_ or -1 for a timeout\n",
    "\n",
    "- `pm4py_dict`: variant string $\\rightarrow$ list of optimal alignments or empty list if there are infinitely many optimal alignments\n",
    "- `pm4py_times`: variant string $\\rightarrow$ computation time for all optimal alignments in _ns_ or -1 for a timeout resp. infinitely many optimal alignments\n",
    "- `pm4py_times_first`: variant string $\\rightarrow$ computation time for the first optimal alignment in _ns_ or -1 for a timeout"
   ]
  },
  {
   "cell_type": "code",
   "execution_count": 1,
   "metadata": {},
   "outputs": [],
   "source": [
    "from logs import Logs\n",
    "############### ENTER THE LOG PATHS HERE ###############\n",
    "path_to_road_fines_log = 'xxxxx/xx/xxxx.xes'\n",
    "path_to_request_for_payment_log = 'xxxxx/xx/xxxx.xes'\n",
    "path_to_sepsis_log = 'xxxxx/xx/xxxx.xes'\n",
    "\n",
    "inspected_log = Logs.ROAD_FINES"
   ]
  },
  {
   "cell_type": "markdown",
   "metadata": {},
   "source": [
    "### Content"
   ]
  },
  {
   "cell_type": "code",
   "execution_count": 2,
   "metadata": {},
   "outputs": [],
   "source": [
    "%load_ext autoreload\n",
    "%autoreload 2\n",
    "import pm4py\n",
    "from processtree import *\n",
    "from alignment import *\n",
    "from alignall import *\n",
    "import statistics\n",
    "import random\n",
    "from tqdm import tqdm\n",
    "from pathlib import Path\n",
    "import pickle"
   ]
  },
  {
   "cell_type": "code",
   "execution_count": 3,
   "metadata": {},
   "outputs": [],
   "source": [
    "def get_variant_dict(log):\n",
    "    variants = dict()\n",
    "    for k,v in pm4py.statistics.variants.log.get.get_variants_from_log_trace_idx(log).items():\n",
    "        variants[k] = len(v)\n",
    "    variants = dict(sorted(variants.items(), key=lambda x: -x[1]))\n",
    "    return variants"
   ]
  },
  {
   "cell_type": "code",
   "execution_count": 4,
   "metadata": {},
   "outputs": [],
   "source": [
    "def update_pair_taus(tree:ProcessTree):\n",
    "    if isinstance(tree, Tau):\n",
    "        if tree.parent is not None and len(tree.parent.children) == 2:\n",
    "            other = tree.parent.children[0]\n",
    "            if other == tree:\n",
    "                other = tree.parent.children[1]\n",
    "            if isinstance(other, Activity):\n",
    "                # set tau\n",
    "                tree.name = \"TAU_\" + other.name\n",
    "            else:\n",
    "                tree.name = \"TAU_\" + other.id\n",
    "        else:\n",
    "            tree.name = \"TAU_\" + str(tree.get_distance_to_root()) + str(random.random())\n",
    "        return\n",
    "    elif not isinstance(tree, Activity):\n",
    "        for c in tree.children:\n",
    "            update_pair_taus(c)\n",
    "        return\n",
    "    else:\n",
    "        return"
   ]
  },
  {
   "cell_type": "code",
   "execution_count": null,
   "metadata": {},
   "outputs": [],
   "source": [
    "path = None\n",
    "if inspected_log == Logs.ROAD_FINES:\n",
    "    path = path_to_road_fines_log\n",
    "elif inspected_log == Logs.REQUEST_FOR_PAYMENT:\n",
    "    path = path_to_request_for_payment_log\n",
    "elif inspected_log == Logs.SEPSIS:\n",
    "    path = path_to_sepsis_log\n",
    "log_rf = pm4py.read_xes(path)"
   ]
  },
  {
   "cell_type": "code",
   "execution_count": 6,
   "metadata": {},
   "outputs": [],
   "source": [
    "def generate_tree(activities, prob_sequence=0.25, prob_xor=0.25, prob_and=0.25, prob_loop=0.25, prob_tau=0.4, max_children=4):\n",
    "    operator_r = random.random()\n",
    "    num_children = random.randint(2,max_children)\n",
    "    if operator_r > prob_sequence+prob_xor+prob_and+prob_loop:\n",
    "        # create a leaf node\n",
    "        if random.random() < prob_tau or len(activities) == 0:\n",
    "            # tau\n",
    "            return Tau(None, 'TAU', 0)\n",
    "        else:\n",
    "            # random activity\n",
    "            return Activity(None, activities[random.randint(0,len(activities)-1)], 100000)\n",
    "    else:\n",
    "        children = []\n",
    "        while len(children) < num_children:\n",
    "            c = generate_tree([act for act in activities if act not in [x.name for x in children if isinstance(x, Activity)]], prob_sequence/2, prob_xor/2, prob_and/2, prob_loop/2, prob_tau, max_children)\n",
    "            if isinstance(c, Tau) and sum(isinstance(x, Tau) for x in children) > (0 if operator_r < prob_sequence+prob_xor+prob_and else 1):\n",
    "                # no two taus in non-loops\n",
    "                continue\n",
    "            if isinstance(c, Activity) and sum(isinstance(x, Activity) and x.name == c.name for x in children) > 0:\n",
    "                # no duplicate label on same leafs\n",
    "                continue\n",
    "            children.append(c)\n",
    "        if operator_r < prob_sequence:\n",
    "            # sequence node\n",
    "            node = Sequence(None, children)\n",
    "        elif operator_r < prob_sequence+prob_xor:\n",
    "            # xor node\n",
    "            node = Xor(None, children)\n",
    "        elif operator_r < prob_sequence+prob_xor+prob_and:\n",
    "            # and node\n",
    "            node = And(None, children)\n",
    "        else:\n",
    "            # loop node\n",
    "            children = children[:2]\n",
    "            node = Loop(None, children)\n",
    "        for c in children:\n",
    "            c.set_parent(node)\n",
    "        return node"
   ]
  },
  {
   "cell_type": "code",
   "execution_count": 7,
   "metadata": {},
   "outputs": [],
   "source": [
    "def get_activities(log):\n",
    "    variants = get_variant_dict(log)\n",
    "    activities = []\n",
    "    for var in variants.keys():\n",
    "        for act in list(var):\n",
    "            if act not in activities:\n",
    "                activities.append(act)\n",
    "    return activities"
   ]
  },
  {
   "cell_type": "code",
   "execution_count": 8,
   "metadata": {},
   "outputs": [],
   "source": [
    "activities_rf = get_activities(log_rf)"
   ]
  },
  {
   "cell_type": "code",
   "execution_count": null,
   "metadata": {},
   "outputs": [],
   "source": [
    "seed = None\n",
    "if inspected_log == Logs.ROAD_FINES:\n",
    "    seed = 2012\n",
    "elif inspected_log == Logs.REQUEST_FOR_PAYMENT:\n",
    "    seed = 2012\n",
    "elif inspected_log == Logs.SEPSIS:\n",
    "    seed = 2003\n",
    "random.seed(seed)\n",
    "tree_rf = generate_tree(activities_rf[:len(activities_rf)-len(activities_rf)//4])\n",
    "tree_rf"
   ]
  },
  {
   "cell_type": "code",
   "execution_count": null,
   "metadata": {},
   "outputs": [],
   "source": [
    "update_pair_taus(tree_rf)\n",
    "process_tree_rf = tree_rf.to_pm4py()\n",
    "tau_loops_rf, process_tree_rf = insert_cycle_checks(process_tree_rf)\n",
    "pm4py.view_process_tree(process_tree_rf, format='png')\n",
    "sublog_pt_rf_net, sublog_pt_rf_init, sublog_pt_rf_final = pm4py.convert.convert_to_petri_net(process_tree_rf)"
   ]
  },
  {
   "cell_type": "code",
   "execution_count": null,
   "metadata": {},
   "outputs": [],
   "source": [
    "skip_dict = {}\n",
    "skip_times = {}\n",
    "Aligner.set_level_incentive(0)\n",
    "variant_strings = list(get_variant_dict(log_rf).keys())\n",
    "futures = align_sk_all(variant_strings, tree_rf, timeout=3600)\n",
    "for index, variant in enumerate(futures):\n",
    "    agns, t = futures[index].result()\n",
    "    skip_dict[\", \".join(variant_strings[index])] = agns\n",
    "    skip_times[\", \".join(variant_strings[index])] = t"
   ]
  },
  {
   "cell_type": "code",
   "execution_count": null,
   "metadata": {},
   "outputs": [],
   "source": [
    "# recompute the runtime for ALL optimal skip agns of a variant\n",
    "for k, v in tqdm(skip_times.items(), total=len(skip_times)):\n",
    "    if v == 0:\n",
    "        # it was not a timeout but too fast result\n",
    "        skip_times[k] = align_sk_all_for_one(tree_rf, k.split(\", \"), 3600, cnt=4000)"
   ]
  },
  {
   "cell_type": "code",
   "execution_count": null,
   "metadata": {},
   "outputs": [],
   "source": [
    "for k, v in tqdm(skip_times.items(), total=len(skip_times)):\n",
    "    if v > 3600000000000:\n",
    "        skip_times[k] = -1"
   ]
  },
  {
   "cell_type": "code",
   "execution_count": null,
   "metadata": {},
   "outputs": [],
   "source": [
    "print(\"Max num agns:\", max(len(v) for k,v in skip_dict.items()))\n",
    "print(\"Avg num agns:\", statistics.mean(len(v) for k,v in skip_dict.items()))\n",
    "print(\"Num timeouts:\", sum(v == -1 for k,v in skip_times.items()))\n",
    "print(\"Min skip time:\", min(v for k,v in skip_times.items() if v != -1))\n",
    "print(\"Max time:\", max(v for k,v in skip_times.items()))\n",
    "print(\"Med time:\", statistics.median(v for k,v in skip_times.items() if v != -1))"
   ]
  },
  {
   "cell_type": "code",
   "execution_count": null,
   "metadata": {},
   "outputs": [],
   "source": [
    "pm4py_dict = {}\n",
    "pm4py_times = {}\n",
    "pm4py_times_first = {}\n",
    "\n",
    "pm4py_res = align_pn_all_multi(log_rf, sublog_pt_rf_net, sublog_pt_rf_init, sublog_pt_rf_final, [], tree_rf, timeout=3600)\n",
    "\n",
    "for k,(process_time, (agns, has_timed_out, time_first_agn)) in pm4py_res.items():\n",
    "    pm4py_dict[k] = list(set([tuple([t for t in agns[i]['alignment'] if t.label[1] is not None and not t.label[1].startswith(\"TAU_entry\") and not t.label[1].startswith(\"TAU_exit\")]) for i in range(len(agns))]))\n",
    "    pm4py_times[k] = -1 if has_timed_out == -1 or process_time > 36*10**11 else process_time\n",
    "    pm4py_times_first[k] = time_first_agn"
   ]
  },
  {
   "cell_type": "code",
   "execution_count": null,
   "metadata": {},
   "outputs": [],
   "source": [
    "# recompute the runtime for ALL optimal agns of a variant\n",
    "for k, v in tqdm(pm4py_times.items(), total=len(pm4py_times)):\n",
    "    if v == 0:\n",
    "        # it was not a timeout but too fast result\n",
    "        pm4py_times[k] = align_pn_all_for_one(k.split(\", \"), sublog_pt_rf_net, sublog_pt_rf_init, sublog_pt_rf_final, tau_loops_rf, tree_rf.get_cheapest_execution(0)[0]+len(k.split(\", \"))*100000+0.1, timeout=3600)"
   ]
  },
  {
   "cell_type": "code",
   "execution_count": null,
   "metadata": {},
   "outputs": [],
   "source": [
    "# recompute the runtime for ONE optimal agn of a variant\n",
    "for k, v in tqdm(pm4py_times_first.items(), total=len(pm4py_times_first)):\n",
    "    if v == 0:\n",
    "        # it was not a timeout but too fast result\n",
    "        pm4py_times_first[k] = align_pn_one_for_one(k.split(\", \"), sublog_pt_rf_net, sublog_pt_rf_init, sublog_pt_rf_final, tau_loops_rf, tree_rf.get_cheapest_execution(0)[0]+len(k.split(\", \"))*100000+0.1, timeout=3600, cnt=200)\n",
    "for k, v in tqdm(pm4py_times_first.items(), total=len(pm4py_times_first)):\n",
    "    if v == 0:\n",
    "        # it was not a timeout but too fast result\n",
    "        pm4py_times_first[k] = align_pn_one_for_one(k.split(\", \"), sublog_pt_rf_net, sublog_pt_rf_init, sublog_pt_rf_final, tau_loops_rf, tree_rf.get_cheapest_execution(0)[0]+len(k.split(\", \"))*100000+0.1, timeout=3600, cnt=2000)"
   ]
  },
  {
   "cell_type": "code",
   "execution_count": null,
   "metadata": {},
   "outputs": [],
   "source": [
    "for k, v in tqdm(pm4py_times_first.items(), total=len(pm4py_times_first)):\n",
    "    if v > 3600000000000:\n",
    "        pm4py_times_first[k] = -1"
   ]
  },
  {
   "cell_type": "code",
   "execution_count": null,
   "metadata": {},
   "outputs": [],
   "source": [
    "print(\"Max num agns:\", max(len(v) for k,v in pm4py_dict.items()))\n",
    "print(\"Avg num agns:\", statistics.mean(len(v) for k,v in pm4py_dict.items()))\n",
    "print(\"Num timeouts:\", sum(v == -1 for k,v in pm4py_times.items()))\n",
    "print(\"Max time:\", max(v for k,v in pm4py_times.items()))\n",
    "print(\"Med. first agn time:\", statistics.median(v for k,v in pm4py_times_first.items()))\n",
    "print(\"Min. first agn time:\", min(v for k,v in pm4py_times_first.items() if v != -1))"
   ]
  },
  {
   "cell_type": "code",
   "execution_count": 73,
   "metadata": {},
   "outputs": [],
   "source": [
    "output_folder = None\n",
    "if inspected_log == Logs.ROAD_FINES:\n",
    "    output_folder = Path(\"rand_results/rf\").mkdir(parents=True, exist_ok=True)\n",
    "elif inspected_log == Logs.REQUEST_FOR_PAYMENT:\n",
    "    output_folder = Path(\"rand_results/payreq\").mkdir(parents=True, exist_ok=True)\n",
    "elif inspected_log == Logs.SEPSIS:\n",
    "    output_folder = Path(\"rand_results/sepsis\").mkdir(parents=True, exist_ok=True)\n",
    "\n",
    "file_pm4py_dict = open(\"rand_results/payreq/pm4py_dict\",\"wb\")\n",
    "pickle.dump(pm4py_dict, file_pm4py_dict)\n",
    "file_pm4py_dict.close()\n",
    "file_skip_dict = open(\"rand_results/payreq/skip_dict\",\"wb\")\n",
    "pickle.dump(skip_dict, file_skip_dict)\n",
    "file_skip_dict.close()\n",
    "file_pm4py_times = open(\"rand_results/payreq/pm4py_times\",\"wb\")\n",
    "pickle.dump(pm4py_times, file_pm4py_times)\n",
    "file_pm4py_times.close()\n",
    "file_pm4py_times_first = open(\"rand_results/payreq/pm4py_times_first\",\"wb\")\n",
    "pickle.dump(pm4py_times_first, file_pm4py_times_first)\n",
    "file_pm4py_times_first.close()\n",
    "file_skip_times = open(\"rand_results/payreq/skip_times\",\"wb\")\n",
    "pickle.dump(skip_times, file_skip_times)\n",
    "file_skip_times.close()"
   ]
  }
 ],
 "metadata": {
  "kernelspec": {
   "display_name": "Python 3",
   "language": "python",
   "name": "python3"
  },
  "language_info": {
   "codemirror_mode": {
    "name": "ipython",
    "version": 3
   },
   "file_extension": ".py",
   "mimetype": "text/x-python",
   "name": "python",
   "nbconvert_exporter": "python",
   "pygments_lexer": "ipython3",
   "version": "3.12.6"
  }
 },
 "nbformat": 4,
 "nbformat_minor": 2
}
