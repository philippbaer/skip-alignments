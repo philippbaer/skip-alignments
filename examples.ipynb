{
 "cells": [
  {
   "cell_type": "markdown",
   "metadata": {},
   "source": [
    "# Examples on How to Compute Alignments and Skip Alignments"
   ]
  },
  {
   "cell_type": "code",
   "execution_count": 1,
   "metadata": {},
   "outputs": [],
   "source": [
    "%load_ext autoreload\n",
    "%autoreload 2\n",
    "import pm4py\n",
    "from processtree import *\n",
    "from alignment import *\n",
    "import pandas as pd\n",
    "from tqdm import tqdm\n",
    "from alignall import *\n",
    "import statistics\n",
    "import random\n",
    "from tqdm import tqdm"
   ]
  },
  {
   "cell_type": "code",
   "execution_count": 2,
   "metadata": {},
   "outputs": [],
   "source": [
    "# What example do you want to run?\n",
    "example = 1"
   ]
  },
  {
   "cell_type": "markdown",
   "metadata": {},
   "source": [
    "## Example 1 (No Cycles, Example from Paper)"
   ]
  },
  {
   "cell_type": "code",
   "execution_count": null,
   "metadata": {},
   "outputs": [],
   "source": [
    "tau = Tau(None, 'Tau', 0)\n",
    "\n",
    "a2 = Activity(None, 'a', 100000)\n",
    "b2 = Activity(None, 'b', 100000)\n",
    "d2 = Activity(None, 'd', 100000)\n",
    "e2 = Activity(None, 'e', 100000)\n",
    "f2 = Activity(None, 'f', 100000)\n",
    "g2 = Activity(None, 'g', 100000)\n",
    "h2 = Activity(None, 'h', 100000)\n",
    "\n",
    "xorpre = Xor(None, [tau, a2])\n",
    "tau.set_parent(xorpre)\n",
    "a2.set_parent(xorpre)\n",
    "\n",
    "xormid = Xor(None, [d2, e2])\n",
    "d2.set_parent(xormid)\n",
    "e2.set_parent(xormid)\n",
    "\n",
    "andpost = And(None, [f2, g2, h2])\n",
    "f2.set_parent(andpost)\n",
    "g2.set_parent(andpost)\n",
    "h2.set_parent(andpost)\n",
    "\n",
    "tree2 = Sequence(None, [xorpre, b2, xormid, andpost])\n",
    "xorpre.set_parent(tree2)\n",
    "b2.set_parent(tree2)\n",
    "xormid.set_parent(tree2)\n",
    "andpost.set_parent(tree2)\n",
    "tree2"
   ]
  },
  {
   "cell_type": "code",
   "execution_count": null,
   "metadata": {},
   "outputs": [],
   "source": [
    "process_tree_rf2 = tree2.to_pm4py()\n",
    "tau_loops_rf2, process_tree_rf2 = insert_cycle_checks(process_tree_rf2)\n",
    "pm4py.view_process_tree(process_tree_rf2, format='png')\n",
    "sublog_pt_rf_net2, sublog_pt_rf_init2, sublog_pt_rf_final2 = pm4py.convert.convert_to_petri_net(process_tree_rf2)"
   ]
  },
  {
   "cell_type": "markdown",
   "metadata": {},
   "source": [
    "## Example 2 (Loops With Cycles)"
   ]
  },
  {
   "cell_type": "code",
   "execution_count": null,
   "metadata": {},
   "outputs": [],
   "source": [
    "tau1 = Tau(None, 'Tau1', 0)\n",
    "tau2 = Tau(None, 'Tau2', 0)\n",
    "tau3 = Tau(None, 'Tau3', 0)\n",
    "tau4 = Tau(None, 'Tau4', 0)\n",
    "\n",
    "a = Activity(None, 'a', 100000)\n",
    "b = Activity(None, 'b', 100000)\n",
    "\n",
    "xor1 = Xor(None, [tau1, a])\n",
    "tau1.set_parent(xor1)\n",
    "a.set_parent(xor1)\n",
    "\n",
    "xor2 = Xor(None, [b, tau4])\n",
    "b.set_parent(xor2)\n",
    "tau4.set_parent(xor2)\n",
    "\n",
    "loop1 = Loop(None, [xor1, tau2])\n",
    "loop1.id = \"LOOP1\"\n",
    "xor1.set_parent(loop1)\n",
    "tau2.set_parent(loop1)\n",
    "\n",
    "loop2 = Loop(None, [tau3, xor2])\n",
    "loop2.id = \"LOOP2\"\n",
    "tau3.set_parent(loop2)\n",
    "xor2.set_parent(loop2)\n",
    "\n",
    "tree = Sequence(None, [loop1, loop2])\n",
    "loop1.set_parent(tree)\n",
    "loop2.set_parent(tree)\n",
    "tree"
   ]
  },
  {
   "cell_type": "code",
   "execution_count": null,
   "metadata": {},
   "outputs": [],
   "source": [
    "process_tree_rf = tree.to_pm4py()\n",
    "tau_loops_rf, process_tree_rf = insert_cycle_checks(process_tree_rf)\n",
    "pm4py.view_process_tree(process_tree_rf, format='png')\n",
    "sublog_pt_rf_net, sublog_pt_rf_init, sublog_pt_rf_final = pm4py.convert.convert_to_petri_net(process_tree_rf)"
   ]
  },
  {
   "cell_type": "code",
   "execution_count": 7,
   "metadata": {},
   "outputs": [],
   "source": [
    "if example == 1:\n",
    "    sublog_pt_net = sublog_pt_rf_net2\n",
    "    sublog_pt_init = sublog_pt_rf_init2\n",
    "    sublog_pt_final = sublog_pt_rf_final2\n",
    "    loop_ids = tau_loops_rf2\n",
    "    pt = tree2\n",
    "    var = ['a', 'c', 'g']\n",
    "else:\n",
    "    sublog_pt_net = sublog_pt_rf_net\n",
    "    sublog_pt_init = sublog_pt_rf_init\n",
    "    sublog_pt_final = sublog_pt_rf_final\n",
    "    loop_ids = tau_loops_rf\n",
    "    pt = tree\n",
    "    var = ['a', 'b']"
   ]
  },
  {
   "cell_type": "markdown",
   "metadata": {},
   "source": [
    "## Compute All Optimal Alignments"
   ]
  },
  {
   "cell_type": "code",
   "execution_count": null,
   "metadata": {},
   "outputs": [],
   "source": [
    "pm4py_dict = {}\n",
    "pm4py_times = {}\n",
    "pm4py_times_first = {}\n",
    "\n",
    "var_df = pd.DataFrame({'case:concept:name': '1', 'concept:name': var, 'time:timestamp': [pd.Timestamp(year=1000+i, month=1, day=1) for i, _ in enumerate(var)]})\n",
    "pm4py_res = align_pn_all_multi(var_df, sublog_pt_net, sublog_pt_init, sublog_pt_final, loop_ids, pt, timeout=3600)\n",
    "\n",
    "for k,(process_time, (agns, has_timed_out, time_first_agn)) in pm4py_res.items():\n",
    "    pm4py_dict[k] = list(set([tuple([t for t in agns[i]['alignment'] if t.label[1] is not None and not t.label[1].startswith(\"TAU_entry\") and not t.label[1].startswith(\"TAU_exit\")]) for i in range(len(agns))]))\n",
    "    pm4py_times[k] = -1 if has_timed_out == -1 or process_time > 36*10**11 else process_time\n",
    "    pm4py_times_first[k] = time_first_agn\n",
    "print(\"Number of computed alignments:\", len(pm4py_dict[', '.join(var)]))\n",
    "print(\"They are:\")\n",
    "pm4py_dict[', '.join(var)]"
   ]
  },
  {
   "cell_type": "markdown",
   "metadata": {},
   "source": [
    "## Compute All Optimal Skip Alignments in Normal Form"
   ]
  },
  {
   "cell_type": "code",
   "execution_count": null,
   "metadata": {},
   "outputs": [],
   "source": [
    "skip_dict = {}\n",
    "skip_times = {}\n",
    "Aligner.set_level_incentive(0)\n",
    "variant_strings = [var]\n",
    "futures = align_sk_all(variant_strings, tree2, timeout=3600)\n",
    "for index, variant in enumerate(futures):\n",
    "    agns, t = futures[index].result()\n",
    "    skip_dict[\", \".join(variant_strings[index])] = agns\n",
    "    skip_times[\", \".join(variant_strings[index])] = t\n",
    "print(\"Number of computed skip alignments in normal form:\", len(skip_dict[', '.join(variant_strings[0])]))\n",
    "print(\"They are:\")\n",
    "[s.path for s in skip_dict[', '.join(var)]]"
   ]
  }
 ],
 "metadata": {
  "kernelspec": {
   "display_name": "Python 3",
   "language": "python",
   "name": "python3"
  },
  "language_info": {
   "codemirror_mode": {
    "name": "ipython",
    "version": 3
   },
   "file_extension": ".py",
   "mimetype": "text/x-python",
   "name": "python",
   "nbconvert_exporter": "python",
   "pygments_lexer": "ipython3",
   "version": "3.12.6"
  }
 },
 "nbformat": 4,
 "nbformat_minor": 2
}
